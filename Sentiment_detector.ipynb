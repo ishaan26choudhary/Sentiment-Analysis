{
 "cells": [
  {
   "cell_type": "code",
   "execution_count": 146,
   "id": "22fcc861-af2a-484e-a423-c38516d4965f",
   "metadata": {},
   "outputs": [],
   "source": [
    "import numpy as np\n",
    "import pandas as pd\n",
    "import nltk\n",
    "import re\n",
    "from nltk.corpus import stopwords\n",
    "from nltk.stem import WordNetLemmatizer\n",
    "from sklearn.feature_extraction.text import TfidfVectorizer\n",
    "from sklearn.model_selection import train_test_split\n",
    "from sklearn.naive_bayes import MultinomialNB\n",
    "from sklearn.metrics import accuracy_score"
   ]
  },
  {
   "cell_type": "code",
   "execution_count": 121,
   "id": "34f4926e-ad53-4cf1-be12-8ae108b71698",
   "metadata": {},
   "outputs": [],
   "source": [
    "Happy=pd.read_csv('Positive_sentiment.csv')"
   ]
  },
  {
   "cell_type": "code",
   "execution_count": 122,
   "id": "6a6bd09f-f2d5-42c5-ae37-2db7de33595b",
   "metadata": {},
   "outputs": [],
   "source": [
    "Sad=pd.read_csv('Negative_sentiment.csv')"
   ]
  },
  {
   "cell_type": "code",
   "execution_count": 123,
   "id": "6f3a57c2-a8e6-4e39-978d-007a396617f5",
   "metadata": {},
   "outputs": [],
   "source": [
    "Happy['label']=1\n",
    "Sad['label']=0"
   ]
  },
  {
   "cell_type": "code",
   "execution_count": 124,
   "id": "5c932135-8ab1-4529-a34b-c09bb2bfe554",
   "metadata": {},
   "outputs": [],
   "source": [
    "dataset1=Happy[['text','label']]\n",
    "dataset2=Sad[['text','label']]"
   ]
  },
  {
   "cell_type": "code",
   "execution_count": 125,
   "id": "72d16d03-55e4-4052-9228-8718dddcafb0",
   "metadata": {},
   "outputs": [],
   "source": [
    "dataset=pd.concat((dataset1,dataset2))"
   ]
  },
  {
   "cell_type": "code",
   "execution_count": 126,
   "id": "dc77b0ae-13d3-4158-a066-c10d7383f271",
   "metadata": {},
   "outputs": [],
   "source": [
    "dataset=dataset.sample(frac=1)"
   ]
  },
  {
   "cell_type": "code",
   "execution_count": 127,
   "id": "2e800efb-aaa1-4874-a969-5b685ba07b19",
   "metadata": {},
   "outputs": [
    {
     "data": {
      "text/plain": [
       "(20, 2)"
      ]
     },
     "execution_count": 127,
     "metadata": {},
     "output_type": "execute_result"
    }
   ],
   "source": [
    "dataset.shape"
   ]
  },
  {
   "cell_type": "code",
   "execution_count": 128,
   "id": "1d378c5c-b5f4-49c0-bf3a-497e28d6852f",
   "metadata": {},
   "outputs": [
    {
     "data": {
      "text/plain": [
       "text     0\n",
       "label    0\n",
       "dtype: int64"
      ]
     },
     "execution_count": 128,
     "metadata": {},
     "output_type": "execute_result"
    }
   ],
   "source": [
    "dataset.isnull().sum()"
   ]
  },
  {
   "cell_type": "code",
   "execution_count": 129,
   "id": "4c15de5c-c944-4bc2-8771-49f8cc0cecfd",
   "metadata": {},
   "outputs": [
    {
     "name": "stdout",
     "output_type": "stream",
     "text": [
      "                                                text  label\n",
      "0  \"I had an amazing experience at this restauran...      1\n",
      "7  \"The staff was incredibly helpful and went abo...      1\n",
      "4  \"I had a horrible experience at that restauran...      0\n",
      "5  \"I'm so happy with the results of this project...      1\n",
      "5  \"This is the worst customer support I've ever ...      0\n",
      "8  \"I'm extremely unhappy with my purchase. It br...      0\n",
      "1  \"This product exceeded my expectations. I'm ex...      1\n",
      "8  \"I'm thrilled with the quality of this product...      1\n",
      "4  \"The presentation was informative and engaging...      1\n",
      "0  \"I can't believe how terrible this service is....      0\n",
      "2  \"I'm so disappointed with the quality of this ...      0\n",
      "6  \"I'm fed up with all the delays and excuses. T...      0\n",
      "3  \"I'm very pleased with the customer service. T...      1\n",
      "9  \"The new update ruined the app. It's full of b...      0\n",
      "9  \"The new update is amazing! The app runs smoot...      1\n",
      "3  \"The presentation was boring and poorly organi...      0\n",
      "2  \"The movie was fantastic! I enjoyed every mome...      1\n",
      "7  \"The book was poorly written and uninteresting...      0\n",
      "1  \"The movie was a complete waste of time. I reg...      0\n",
      "6  \"The book was a page-turner. I couldn't put it...      1\n"
     ]
    }
   ],
   "source": [
    "print(dataset)"
   ]
  },
  {
   "cell_type": "code",
   "execution_count": 130,
   "id": "c8e130d9-530c-4208-9341-9ae48bc1b449",
   "metadata": {},
   "outputs": [],
   "source": [
    "ps=WordNetLemmatizer()"
   ]
  },
  {
   "cell_type": "code",
   "execution_count": 150,
   "id": "3ec905b8-40a5-4def-b46b-5d952bc122a3",
   "metadata": {},
   "outputs": [],
   "source": [
    "stopwords=stopwords.words('english')"
   ]
  },
  {
   "cell_type": "code",
   "execution_count": 151,
   "id": "90617d8a-b453-49fc-9233-20bd71d50799",
   "metadata": {},
   "outputs": [],
   "source": [
    "def clean_row(row):\n",
    "    row=row.lower()\n",
    "    row=re.sub('[^a-zA-Z]','',row)\n",
    "    token=row.split()\n",
    "    word = [ps.lemmatize(letter) for letter in token if letter not in stopwords]\n",
    "    cleaned_word=''.join(word)\n",
    "    return cleaned_word"
   ]
  },
  {
   "cell_type": "code",
   "execution_count": 152,
   "id": "c24d5731-171a-473c-9d7d-67879b89008f",
   "metadata": {},
   "outputs": [],
   "source": [
    "dataset['text']=dataset['text'].apply(lambda x:clean_row(x))"
   ]
  },
  {
   "cell_type": "code",
   "execution_count": 153,
   "id": "2180147d-db49-4838-9cbd-936f8e852723",
   "metadata": {},
   "outputs": [
    {
     "data": {
      "text/plain": [
       "0    ihadanamazingexperienceatthisrestaurantthefood...\n",
       "7    thestaffwasincrediblyhelpfulandwentaboveandbey...\n",
       "4    ihadahorribleexperienceatthatrestaurantthefood...\n",
       "5    imsohappywiththeresultsofthisprojectitturnedou...\n",
       "5    thisistheworstcustomersupportiveeverdealtwitht...\n",
       "8    imextremelyunhappywithmypurchaseitbrokewithina...\n",
       "1    thisproductexceededmyexpectationsimextremelysa...\n",
       "8    imthrilledwiththequalityofthisproductitsworthe...\n",
       "4    thepresentationwasinformativeandengagingilearn...\n",
       "0    icantbelievehowterriblethisserviceisimnevercom...\n",
       "2    imsodisappointedwiththequalityofthisproductits...\n",
       "6    imfedupwithallthedelaysandexcusesthisprojectis...\n",
       "3    imverypleasedwiththecustomerservicetheywerefri...\n",
       "9    thenewupdateruinedtheappitsfullofbugsandcrashe...\n",
       "9    thenewupdateisamazingtheapprunssmoothlyandhasg...\n",
       "3    thepresentationwasboringandpoorlyorganizedidid...\n",
       "2          themoviewasfantasticienjoyedeverymomentofit\n",
       "7    thebookwaspoorlywrittenanduninterestingistrugg...\n",
       "1     themoviewasacompletewasteoftimeiregretwatchingit\n",
       "6               thebookwasapageturnericouldntputitdown\n",
       "Name: text, dtype: object"
      ]
     },
     "execution_count": 153,
     "metadata": {},
     "output_type": "execute_result"
    }
   ],
   "source": [
    "dataset['text']\n"
   ]
  },
  {
   "cell_type": "code",
   "execution_count": 154,
   "id": "6cef194c-214e-4dab-917a-896b9bc883c3",
   "metadata": {},
   "outputs": [],
   "source": [
    "vectorizer=TfidfVectorizer(max_features=100,lowercase=False,ngram_range=(1,2))"
   ]
  },
  {
   "cell_type": "code",
   "execution_count": 155,
   "id": "60a9d110-bf3e-4e44-bc73-f35945a10cf8",
   "metadata": {},
   "outputs": [],
   "source": [
    "x=dataset.iloc[:20,0]\n",
    "y=dataset.iloc[:20,1]"
   ]
  },
  {
   "cell_type": "code",
   "execution_count": 156,
   "id": "3cc531ab-c560-4cd5-879c-9b5575207341",
   "metadata": {},
   "outputs": [],
   "source": [
    "train_data,test_data,train_label,test_label=train_test_split(x,y,test_size=0.5,stratify=y)"
   ]
  },
  {
   "cell_type": "code",
   "execution_count": 157,
   "id": "f375553d-0a1b-4893-8762-ca2898deee89",
   "metadata": {},
   "outputs": [],
   "source": [
    "vec_train_data=vectorizer.fit_transform(train_data)\n",
    "vec_train_data=vec_train_data.toarray()\n",
    "vec_test_data=vectorizer.fit_transform(test_data)\n",
    "vec_test_data=vec_test_data.toarray()"
   ]
  },
  {
   "cell_type": "code",
   "execution_count": 158,
   "id": "487168f0-68ff-4237-8b2b-d24e2d104dd2",
   "metadata": {},
   "outputs": [],
   "source": [
    "train_data=pd.DataFrame(vec_train_data,columns=vectorizer.get_feature_names_out())\n",
    "test_data=pd.DataFrame(vec_test_data,columns=vectorizer.get_feature_names_out())"
   ]
  },
  {
   "cell_type": "code",
   "execution_count": 159,
   "id": "81929b8b-5852-4935-8b16-8ad0ad02e8e1",
   "metadata": {},
   "outputs": [],
   "source": [
    "clf=MultinomialNB()"
   ]
  },
  {
   "cell_type": "code",
   "execution_count": 160,
   "id": "3301d132-fad6-41f6-9eab-d5dfe14497b3",
   "metadata": {},
   "outputs": [
    {
     "data": {
      "text/html": [
       "<style>#sk-container-id-2 {color: black;background-color: white;}#sk-container-id-2 pre{padding: 0;}#sk-container-id-2 div.sk-toggleable {background-color: white;}#sk-container-id-2 label.sk-toggleable__label {cursor: pointer;display: block;width: 100%;margin-bottom: 0;padding: 0.3em;box-sizing: border-box;text-align: center;}#sk-container-id-2 label.sk-toggleable__label-arrow:before {content: \"▸\";float: left;margin-right: 0.25em;color: #696969;}#sk-container-id-2 label.sk-toggleable__label-arrow:hover:before {color: black;}#sk-container-id-2 div.sk-estimator:hover label.sk-toggleable__label-arrow:before {color: black;}#sk-container-id-2 div.sk-toggleable__content {max-height: 0;max-width: 0;overflow: hidden;text-align: left;background-color: #f0f8ff;}#sk-container-id-2 div.sk-toggleable__content pre {margin: 0.2em;color: black;border-radius: 0.25em;background-color: #f0f8ff;}#sk-container-id-2 input.sk-toggleable__control:checked~div.sk-toggleable__content {max-height: 200px;max-width: 100%;overflow: auto;}#sk-container-id-2 input.sk-toggleable__control:checked~label.sk-toggleable__label-arrow:before {content: \"▾\";}#sk-container-id-2 div.sk-estimator input.sk-toggleable__control:checked~label.sk-toggleable__label {background-color: #d4ebff;}#sk-container-id-2 div.sk-label input.sk-toggleable__control:checked~label.sk-toggleable__label {background-color: #d4ebff;}#sk-container-id-2 input.sk-hidden--visually {border: 0;clip: rect(1px 1px 1px 1px);clip: rect(1px, 1px, 1px, 1px);height: 1px;margin: -1px;overflow: hidden;padding: 0;position: absolute;width: 1px;}#sk-container-id-2 div.sk-estimator {font-family: monospace;background-color: #f0f8ff;border: 1px dotted black;border-radius: 0.25em;box-sizing: border-box;margin-bottom: 0.5em;}#sk-container-id-2 div.sk-estimator:hover {background-color: #d4ebff;}#sk-container-id-2 div.sk-parallel-item::after {content: \"\";width: 100%;border-bottom: 1px solid gray;flex-grow: 1;}#sk-container-id-2 div.sk-label:hover label.sk-toggleable__label {background-color: #d4ebff;}#sk-container-id-2 div.sk-serial::before {content: \"\";position: absolute;border-left: 1px solid gray;box-sizing: border-box;top: 0;bottom: 0;left: 50%;z-index: 0;}#sk-container-id-2 div.sk-serial {display: flex;flex-direction: column;align-items: center;background-color: white;padding-right: 0.2em;padding-left: 0.2em;position: relative;}#sk-container-id-2 div.sk-item {position: relative;z-index: 1;}#sk-container-id-2 div.sk-parallel {display: flex;align-items: stretch;justify-content: center;background-color: white;position: relative;}#sk-container-id-2 div.sk-item::before, #sk-container-id-2 div.sk-parallel-item::before {content: \"\";position: absolute;border-left: 1px solid gray;box-sizing: border-box;top: 0;bottom: 0;left: 50%;z-index: -1;}#sk-container-id-2 div.sk-parallel-item {display: flex;flex-direction: column;z-index: 1;position: relative;background-color: white;}#sk-container-id-2 div.sk-parallel-item:first-child::after {align-self: flex-end;width: 50%;}#sk-container-id-2 div.sk-parallel-item:last-child::after {align-self: flex-start;width: 50%;}#sk-container-id-2 div.sk-parallel-item:only-child::after {width: 0;}#sk-container-id-2 div.sk-dashed-wrapped {border: 1px dashed gray;margin: 0 0.4em 0.5em 0.4em;box-sizing: border-box;padding-bottom: 0.4em;background-color: white;}#sk-container-id-2 div.sk-label label {font-family: monospace;font-weight: bold;display: inline-block;line-height: 1.2em;}#sk-container-id-2 div.sk-label-container {text-align: center;}#sk-container-id-2 div.sk-container {/* jupyter's `normalize.less` sets `[hidden] { display: none; }` but bootstrap.min.css set `[hidden] { display: none !important; }` so we also need the `!important` here to be able to override the default hidden behavior on the sphinx rendered scikit-learn.org. See: https://github.com/scikit-learn/scikit-learn/issues/21755 */display: inline-block !important;position: relative;}#sk-container-id-2 div.sk-text-repr-fallback {display: none;}</style><div id=\"sk-container-id-2\" class=\"sk-top-container\"><div class=\"sk-text-repr-fallback\"><pre>MultinomialNB()</pre><b>In a Jupyter environment, please rerun this cell to show the HTML representation or trust the notebook. <br />On GitHub, the HTML representation is unable to render, please try loading this page with nbviewer.org.</b></div><div class=\"sk-container\" hidden><div class=\"sk-item\"><div class=\"sk-estimator sk-toggleable\"><input class=\"sk-toggleable__control sk-hidden--visually\" id=\"sk-estimator-id-2\" type=\"checkbox\" checked><label for=\"sk-estimator-id-2\" class=\"sk-toggleable__label sk-toggleable__label-arrow\">MultinomialNB</label><div class=\"sk-toggleable__content\"><pre>MultinomialNB()</pre></div></div></div></div></div>"
      ],
      "text/plain": [
       "MultinomialNB()"
      ]
     },
     "execution_count": 160,
     "metadata": {},
     "output_type": "execute_result"
    }
   ],
   "source": [
    "clf.fit(train_data,train_label)"
   ]
  },
  {
   "cell_type": "code",
   "execution_count": 161,
   "id": "4480c527-8d2d-4ee4-b942-464824db9a26",
   "metadata": {},
   "outputs": [],
   "source": [
    "y_pred=clf.predict(test_data)"
   ]
  },
  {
   "cell_type": "code",
   "execution_count": 162,
   "id": "e1a6bb37-91b0-41a7-a402-b8f53438d6f8",
   "metadata": {},
   "outputs": [
    {
     "name": "stdout",
     "output_type": "stream",
     "text": [
      "0.8\n"
     ]
    }
   ],
   "source": [
    "print(accuracy_score(test_label,y_pred))"
   ]
  },
  {
   "cell_type": "code",
   "execution_count": 163,
   "id": "50698750-2cc3-4eb2-ac2b-6fe64e455159",
   "metadata": {},
   "outputs": [
    {
     "name": "stdin",
     "output_type": "stream",
     "text": [
      "Enter your message:  I am sad\n"
     ]
    },
    {
     "name": "stdout",
     "output_type": "stream",
     "text": [
      "Yeh is happy\n"
     ]
    },
    {
     "name": "stderr",
     "output_type": "stream",
     "text": [
      "C:\\Users\\ishaan\\OneDrive\\Attachments\\Lib\\site-packages\\sklearn\\base.py:439: UserWarning: X does not have valid feature names, but MultinomialNB was fitted with feature names\n",
      "  warnings.warn(\n"
     ]
    }
   ],
   "source": [
    "txt=input(\"Enter your message: \")\n",
    "newtext=clean_row(txt)\n",
    "pred=clf.predict(vectorizer.transform([newtext]).toarray())\n",
    "if pred==0:\n",
    "    print(\"Yeh is happy\")\n",
    "elif pred==1:\n",
    "    print(\"Yeh is sad\")"
   ]
  },
  {
   "cell_type": "code",
   "execution_count": null,
   "id": "fa4a7513-8f01-4a41-8270-c8df489f47a1",
   "metadata": {},
   "outputs": [],
   "source": []
  }
 ],
 "metadata": {
  "kernelspec": {
   "display_name": "Python 3 (ipykernel)",
   "language": "python",
   "name": "python3"
  },
  "language_info": {
   "codemirror_mode": {
    "name": "ipython",
    "version": 3
   },
   "file_extension": ".py",
   "mimetype": "text/x-python",
   "name": "python",
   "nbconvert_exporter": "python",
   "pygments_lexer": "ipython3",
   "version": "3.11.7"
  }
 },
 "nbformat": 4,
 "nbformat_minor": 5
}
